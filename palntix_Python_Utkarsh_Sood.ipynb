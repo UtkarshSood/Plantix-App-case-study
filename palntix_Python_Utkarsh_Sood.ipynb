{
 "cells": [
  {
   "cell_type": "code",
   "execution_count": 3,
   "id": "7d1d2775",
   "metadata": {},
   "outputs": [],
   "source": [
    "#Importing important libraries\n",
    "import numpy as np\n",
    "import pandas as pd\n",
    "import matplotlib.pyplot as plt\n",
    "%matplotlib inline\n",
    "import seaborn as sns"
   ]
  },
  {
   "cell_type": "markdown",
   "id": "6b506919",
   "metadata": {},
   "source": [
    "#This is extracted from data using SQL \n",
    "##\n",
    "Total users in July 2021(Monthly active users) = 10867\n",
    "Total users in July 2022(Monthly active users) = 13022\n",
    "19.83 % increase in Users\n",
    "##\n",
    "Total retained users (users who were in July 2021 and July 2022) = 3607\n",
    "Retention rate = (3607/10867) * 100 = 33.192 %\n",
    "New users in July 2022 = 9415\n",
    "Users in July 2021 who are not in July 2022 = 7260\n",
    "##\n",
    "Churn rate = 66.808 %\n",
    "##\n",
    "Daily active users(avg daily active users in July 2021) = 1515\n",
    "Daily active users(avg daily active users in July 2022) = 2234\n",
    "Daily active users % increase = 47.46 %\n",
    "##\n",
    "Average Revenue per user (July 2021) = 24598.68\n",
    "Average Revenue per user (July 2022) = 39214.15\n",
    "% increase = 59.42%\n",
    "##\n",
    "Total Sessions per User\n",
    "July, 2021 = 24      \n",
    "July, 2022 = 30\n",
    "25% increase in Total Sessions \n",
    "\n"
   ]
  },
  {
   "cell_type": "code",
   "execution_count": 45,
   "id": "ddf64427",
   "metadata": {},
   "outputs": [
    {
     "data": {
      "image/png": "[encoded data removed]",
      "text/plain": [
       "<Figure size 432x288 with 1 Axes>"
      ]
     },
     "metadata": {
      "needs_background": "light"
     },
     "output_type": "display_data"
    }
   ],
   "source": [
    "# This is extracted from data using SQL\n",
    "# App users\n",
    "users_year_wise = {\n",
    "    'July 2021' : 10867,\n",
    "    'July 2022' : 13022\n",
    "}\n",
    "xdata = users_year_wise.keys()\n",
    "ydata = users_year_wise.values()\n",
    "plt.bar(xdata,ydata,width = 0.5,color = ['green','red'])\n",
    "plt.show()\n",
    "    \n",
    "\n"
   ]
  },
  {
   "cell_type": "markdown",
   "id": "357f7ed4",
   "metadata": {},
   "source": [
    "# This is extracted from data using SQL # Orders\n",
    "Orders in July,2021 = 6216\n",
    "Orders in July,2022 = 7414\n",
    "19.27 % increase in orders \n",
    "Orders shipped in July,2021 = 2434\n",
    "Orders Rejected in July,2021 = 3764\n",
    "Orders shipped in July,2021 = 3489\n",
    "Orders Rejected in July,2021 = 3899"
   ]
  },
  {
   "cell_type": "code",
   "execution_count": 127,
   "id": "06670713",
   "metadata": {},
   "outputs": [
    {
     "data": {
      "image/png": "[encoded data removed]",
      "text/plain": [
       "<Figure size 432x288 with 1 Axes>"
      ]
     },
     "metadata": {
      "needs_background": "light"
     },
     "output_type": "display_data"
    }
   ],
   "source": [
    "orders_year_wise = {\n",
    "    'July 2021' : 6216,\n",
    "    'July 2022' : 7414\n",
    "    }\n",
    "xdata = orders_year_wise.keys()\n",
    "ydata = orders_year_wise.values()\n",
    "plt.bar(xdata,ydata,width = 0.5,color = ['yellow','Blue'])\n",
    "plt.xlabel('Year')\n",
    "plt.ylabel('Orders')\n",
    "plt.show()\n",
    "    "
   ]
  },
  {
   "cell_type": "markdown",
   "id": "1902045b",
   "metadata": {},
   "source": [
    "# This is extracted from data using SQL # Buyers\n",
    "Buyers in July 2021 = 2452 \n",
    "Buyers in July 2022 = 2980\n",
    "21.533 % increase in Buyers\n",
    "Buyers in July 2021 as well as in July 2022 = 600\n",
    "Buyers in July 2022 who were not in July 2021 = 2380"
   ]
  },
  {
   "cell_type": "code",
   "execution_count": 130,
   "id": "6d1842bc",
   "metadata": {},
   "outputs": [
    {
     "data": {
      "image/png": "[encoded data removed]",
      "text/plain": [
       "<Figure size 432x288 with 1 Axes>"
      ]
     },
     "metadata": {
      "needs_background": "light"
     },
     "output_type": "display_data"
    }
   ],
   "source": [
    "# This is extracted from data using SQL\n",
    "# customers\n",
    "Buyers_year_wise = {\n",
    "    'July 2021' : 2452,\n",
    "    'July 2022' : 2980\n",
    "    }\n",
    "xdata = Buyers_year_wise.keys()\n",
    "ydata = Buyers_year_wise.values()\n",
    "plt.bar(xdata,ydata,width = 0.5,color = ['green','red'])\n",
    "plt.xlabel('Year')\n",
    "plt.ylabel('Buyers')\n",
    "plt.show()\n"
   ]
  },
  {
   "cell_type": "markdown",
   "id": "3bdf0ae8",
   "metadata": {},
   "source": [
    "#\n",
    "Total Depots in July,2021 = 8\n",
    "Total Depots in July,2022 = 11\n",
    "New Depots = 3\n",
    "#\n",
    "\n",
    "\n"
   ]
  },
  {
   "cell_type": "markdown",
   "id": "51896e57",
   "metadata": {},
   "source": [
    "Number of different products sold in 2021 = 554\n",
    "Number of different products sold in 2022 = 483"
   ]
  },
  {
   "cell_type": "markdown",
   "id": "c9af413d",
   "metadata": {},
   "source": [
    "Revenue in July,2021 = 60315970.91\n",
    "Revenue in July,2022 = 116858178.44\n",
    "Percentage increase in revenue = 93.74"
   ]
  },
  {
   "cell_type": "code",
   "execution_count": 126,
   "id": "45896bd9",
   "metadata": {},
   "outputs": [
    {
     "data": {
      "image/png": "[encoded data removed]",
      "text/plain": [
       "<Figure size 432x288 with 1 Axes>"
      ]
     },
     "metadata": {
      "needs_background": "light"
     },
     "output_type": "display_data"
    }
   ],
   "source": [
    "Revenue_year_wise = {\n",
    "    'July 2021' : 6.03,\n",
    "    'July 2022' : 11.68\n",
    "    }\n",
    "xdata = Revenue_year_wise.keys()\n",
    "ydata = Revenue_year_wise.values()\n",
    "plt.bar(xdata,ydata,width = 0.5,color = ['RED','Yellow'])\n",
    "plt.xlabel('Year')\n",
    "plt.ylabel('Revenue')\n",
    "\n",
    "plt.show()"
   ]
  },
  {
   "cell_type": "markdown",
   "id": "fd39cf00",
   "metadata": {},
   "source": [
    "554 different products were sold in july 2021\n",
    "483 different products were sold in july 2022\n",
    "304 different products sold in july 2021 were not sold in july 2022\n",
    "233 different products sold in july 2022 were not sold in july 2021"
   ]
  },
  {
   "cell_type": "code",
   "execution_count": 133,
   "id": "4c7fbba8",
   "metadata": {},
   "outputs": [
    {
     "data": {
      "text/html": [
       "<div>\n",
       "<style scoped>\n",
       "    .dataframe tbody tr th:only-of-type {\n",
       "        vertical-align: middle;\n",
       "    }\n",
       "\n",
       "    .dataframe tbody tr th {\n",
       "        vertical-align: top;\n",
       "    }\n",
       "\n",
       "    .dataframe thead th {\n",
       "        text-align: right;\n",
       "    }\n",
       "</style>\n",
       "<table border=\"1\" class=\"dataframe\">\n",
       "  <thead>\n",
       "    <tr style=\"text-align: right;\">\n",
       "      <th></th>\n",
       "      <th>fk_product_id</th>\n",
       "      <th>no_of_orders</th>\n",
       "    </tr>\n",
       "  </thead>\n",
       "  <tbody>\n",
       "    <tr>\n",
       "      <th>0</th>\n",
       "      <td>10235</td>\n",
       "      <td>908</td>\n",
       "    </tr>\n",
       "    <tr>\n",
       "      <th>1</th>\n",
       "      <td>8444</td>\n",
       "      <td>822</td>\n",
       "    </tr>\n",
       "    <tr>\n",
       "      <th>2</th>\n",
       "      <td>1041</td>\n",
       "      <td>624</td>\n",
       "    </tr>\n",
       "    <tr>\n",
       "      <th>3</th>\n",
       "      <td>8425</td>\n",
       "      <td>590</td>\n",
       "    </tr>\n",
       "    <tr>\n",
       "      <th>4</th>\n",
       "      <td>3610</td>\n",
       "      <td>488</td>\n",
       "    </tr>\n",
       "    <tr>\n",
       "      <th>5</th>\n",
       "      <td>10975</td>\n",
       "      <td>469</td>\n",
       "    </tr>\n",
       "    <tr>\n",
       "      <th>6</th>\n",
       "      <td>1038</td>\n",
       "      <td>382</td>\n",
       "    </tr>\n",
       "    <tr>\n",
       "      <th>7</th>\n",
       "      <td>8219</td>\n",
       "      <td>362</td>\n",
       "    </tr>\n",
       "    <tr>\n",
       "      <th>8</th>\n",
       "      <td>10236</td>\n",
       "      <td>353</td>\n",
       "    </tr>\n",
       "    <tr>\n",
       "      <th>9</th>\n",
       "      <td>8210</td>\n",
       "      <td>337</td>\n",
       "    </tr>\n",
       "  </tbody>\n",
       "</table>\n",
       "</div>"
      ],
      "text/plain": [
       "   fk_product_id  no_of_orders\n",
       "0          10235           908\n",
       "1           8444           822\n",
       "2           1041           624\n",
       "3           8425           590\n",
       "4           3610           488\n",
       "5          10975           469\n",
       "6           1038           382\n",
       "7           8219           362\n",
       "8          10236           353\n",
       "9           8210           337"
      ]
     },
     "execution_count": 133,
     "metadata": {},
     "output_type": "execute_result"
    }
   ],
   "source": [
    "#This CSV FILE IS EXTRACTED FROM DATA USING SQL\n",
    "df_plantix_products_no_of_orders = pd.read_csv(r\"C:\\Users\\x\\Downloads\\plantix_products_no_of_orders.csv\", names = ['fk_product_id','no_of_orders'])\n",
    "df_plantix_products_no_of_orders = df_plantix_products_no_of_orders.iloc[0:10,:]\n",
    "df_plantix_products_no_of_orders \n"
   ]
  },
  {
   "cell_type": "code",
   "execution_count": 134,
   "id": "3b9def74",
   "metadata": {},
   "outputs": [
    {
     "data": {
      "image/png": "[encoded data removed]",
      "text/plain": [
       "<Figure size 432x288 with 1 Axes>"
      ]
     },
     "metadata": {
      "needs_background": "light"
     },
     "output_type": "display_data"
    }
   ],
   "source": [
    "xdata = df_plantix_products_no_of_orders ['fk_product_id'].to_list()\n",
    "xdata = [str(item) for item in xdata ]\n",
    "ydata = df_plantix_products_no_of_orders ['no_of_orders'].to_list()\n",
    "plt.xlabel('Product id')\n",
    "plt.ylabel('No of orders')\n",
    "plt.title('Top 10 selling Products')\n",
    "plt.xticks(rotation = 'vertical')\n",
    "plt.bar(xdata,ydata,width = 0.5,color = 'green')\n",
    "\n",
    "plt.show()"
   ]
  },
  {
   "cell_type": "code",
   "execution_count": 102,
   "id": "a0a759d5",
   "metadata": {
    "scrolled": true
   },
   "outputs": [
    {
     "data": {
      "text/html": [
       "<div>\n",
       "<style scoped>\n",
       "    .dataframe tbody tr th:only-of-type {\n",
       "        vertical-align: middle;\n",
       "    }\n",
       "\n",
       "    .dataframe tbody tr th {\n",
       "        vertical-align: top;\n",
       "    }\n",
       "\n",
       "    .dataframe thead th {\n",
       "        text-align: right;\n",
       "    }\n",
       "</style>\n",
       "<table border=\"1\" class=\"dataframe\">\n",
       "  <thead>\n",
       "    <tr style=\"text-align: right;\">\n",
       "      <th></th>\n",
       "      <th>fk_product_id</th>\n",
       "      <th>no_of_orders</th>\n",
       "      <th>Revenue</th>\n",
       "    </tr>\n",
       "  </thead>\n",
       "  <tbody>\n",
       "    <tr>\n",
       "      <th>0</th>\n",
       "      <td>10235</td>\n",
       "      <td>550</td>\n",
       "      <td>2238276.45</td>\n",
       "    </tr>\n",
       "    <tr>\n",
       "      <th>1</th>\n",
       "      <td>8444</td>\n",
       "      <td>337</td>\n",
       "      <td>8370628.40</td>\n",
       "    </tr>\n",
       "    <tr>\n",
       "      <th>2</th>\n",
       "      <td>1548</td>\n",
       "      <td>300</td>\n",
       "      <td>2563695.52</td>\n",
       "    </tr>\n",
       "    <tr>\n",
       "      <th>3</th>\n",
       "      <td>1041</td>\n",
       "      <td>268</td>\n",
       "      <td>1822052.09</td>\n",
       "    </tr>\n",
       "    <tr>\n",
       "      <th>4</th>\n",
       "      <td>9925</td>\n",
       "      <td>249</td>\n",
       "      <td>1794376.67</td>\n",
       "    </tr>\n",
       "    <tr>\n",
       "      <th>5</th>\n",
       "      <td>8425</td>\n",
       "      <td>245</td>\n",
       "      <td>2590386.50</td>\n",
       "    </tr>\n",
       "    <tr>\n",
       "      <th>6</th>\n",
       "      <td>10975</td>\n",
       "      <td>212</td>\n",
       "      <td>5591222.30</td>\n",
       "    </tr>\n",
       "    <tr>\n",
       "      <th>7</th>\n",
       "      <td>8219</td>\n",
       "      <td>204</td>\n",
       "      <td>20501461.30</td>\n",
       "    </tr>\n",
       "    <tr>\n",
       "      <th>8</th>\n",
       "      <td>8210</td>\n",
       "      <td>187</td>\n",
       "      <td>8645730.50</td>\n",
       "    </tr>\n",
       "    <tr>\n",
       "      <th>9</th>\n",
       "      <td>11118</td>\n",
       "      <td>186</td>\n",
       "      <td>301922.00</td>\n",
       "    </tr>\n",
       "  </tbody>\n",
       "</table>\n",
       "</div>"
      ],
      "text/plain": [
       "   fk_product_id  no_of_orders      Revenue\n",
       "0          10235           550   2238276.45\n",
       "1           8444           337   8370628.40\n",
       "2           1548           300   2563695.52\n",
       "3           1041           268   1822052.09\n",
       "4           9925           249   1794376.67\n",
       "5           8425           245   2590386.50\n",
       "6          10975           212   5591222.30\n",
       "7           8219           204  20501461.30\n",
       "8           8210           187   8645730.50\n",
       "9          11118           186    301922.00"
      ]
     },
     "execution_count": 102,
     "metadata": {},
     "output_type": "execute_result"
    }
   ],
   "source": [
    "#This CSV FILE IS EXTRACTED FROM DATA USING SQL\n",
    "df_plantix_products_no_of_orders2021 = pd.read_csv(r\"C:\\Users\\x\\Downloads\\plantix_top_selling_products_2021.csv\", names = ['fk_product_id','no_of_orders'])\n",
    "df_plantix_products_no_of_orders2021 = df_plantix_products_no_of_orders2021.iloc[0:10,:]\n",
    "df_plantix_products_no_of_orders2021['Revenue'] = [2238276.45,8370628.4,2563695.52,1822052.09,1794376.67,2590386.5,5591222.3,20501461.3,8645730.5,301922]\n",
    "df_plantix_products_no_of_orders2021"
   ]
  },
  {
   "cell_type": "markdown",
   "id": "c6c7d5eb",
   "metadata": {},
   "source": [
    "Revenue from Top 10 selling Products = 54419751.73\n",
    "It is 90.22% of Total Revenue of July, 2021"
   ]
  },
  {
   "cell_type": "code",
   "execution_count": 131,
   "id": "44ecd2a7",
   "metadata": {},
   "outputs": [
    {
     "data": {
      "image/png": "[encoded data removed]",
      "text/plain": [
       "<Figure size 432x288 with 1 Axes>"
      ]
     },
     "metadata": {
      "needs_background": "light"
     },
     "output_type": "display_data"
    }
   ],
   "source": [
    "xdata = df_plantix_products_no_of_orders2021 ['fk_product_id'].to_list()\n",
    "xdata = [str(item) for item in xdata ]\n",
    "ydata = df_plantix_products_no_of_orders2021 ['no_of_orders'].to_list()\n",
    "plt.xlabel('Product id')\n",
    "plt.ylabel('No of orders')\n",
    "plt.title('Top 10 selling Products 2021')\n",
    "plt.xticks(rotation = 'vertical')\n",
    "plt.bar(xdata,ydata,width = 0.5,color = 'red')\n",
    "\n",
    "plt.show()"
   ]
  },
  {
   "cell_type": "code",
   "execution_count": 132,
   "id": "ea4a9cc4",
   "metadata": {
    "scrolled": true
   },
   "outputs": [
    {
     "data": {
      "text/html": [
       "<div>\n",
       "<style scoped>\n",
       "    .dataframe tbody tr th:only-of-type {\n",
       "        vertical-align: middle;\n",
       "    }\n",
       "\n",
       "    .dataframe tbody tr th {\n",
       "        vertical-align: top;\n",
       "    }\n",
       "\n",
       "    .dataframe thead th {\n",
       "        text-align: right;\n",
       "    }\n",
       "</style>\n",
       "<table border=\"1\" class=\"dataframe\">\n",
       "  <thead>\n",
       "    <tr style=\"text-align: right;\">\n",
       "      <th></th>\n",
       "      <th>fk_product_id</th>\n",
       "      <th>no_of_orders</th>\n",
       "      <th>Revenue</th>\n",
       "    </tr>\n",
       "  </thead>\n",
       "  <tbody>\n",
       "    <tr>\n",
       "      <th>0</th>\n",
       "      <td>8444</td>\n",
       "      <td>485</td>\n",
       "      <td>8370628.40</td>\n",
       "    </tr>\n",
       "    <tr>\n",
       "      <th>1</th>\n",
       "      <td>10235</td>\n",
       "      <td>358</td>\n",
       "      <td>2238276.45</td>\n",
       "    </tr>\n",
       "    <tr>\n",
       "      <th>2</th>\n",
       "      <td>1041</td>\n",
       "      <td>356</td>\n",
       "      <td>1822052.09</td>\n",
       "    </tr>\n",
       "    <tr>\n",
       "      <th>3</th>\n",
       "      <td>8425</td>\n",
       "      <td>345</td>\n",
       "      <td>2590386.50</td>\n",
       "    </tr>\n",
       "    <tr>\n",
       "      <th>4</th>\n",
       "      <td>3610</td>\n",
       "      <td>335</td>\n",
       "      <td>11240647.00</td>\n",
       "    </tr>\n",
       "    <tr>\n",
       "      <th>5</th>\n",
       "      <td>10975</td>\n",
       "      <td>257</td>\n",
       "      <td>5591222.30</td>\n",
       "    </tr>\n",
       "    <tr>\n",
       "      <th>6</th>\n",
       "      <td>10224</td>\n",
       "      <td>236</td>\n",
       "      <td>895768.49</td>\n",
       "    </tr>\n",
       "    <tr>\n",
       "      <th>7</th>\n",
       "      <td>1038</td>\n",
       "      <td>225</td>\n",
       "      <td>3566049.12</td>\n",
       "    </tr>\n",
       "    <tr>\n",
       "      <th>8</th>\n",
       "      <td>12701</td>\n",
       "      <td>224</td>\n",
       "      <td>2062316.50</td>\n",
       "    </tr>\n",
       "    <tr>\n",
       "      <th>9</th>\n",
       "      <td>3615</td>\n",
       "      <td>205</td>\n",
       "      <td>2846476.00</td>\n",
       "    </tr>\n",
       "  </tbody>\n",
       "</table>\n",
       "</div>"
      ],
      "text/plain": [
       "   fk_product_id  no_of_orders      Revenue\n",
       "0           8444           485   8370628.40\n",
       "1          10235           358   2238276.45\n",
       "2           1041           356   1822052.09\n",
       "3           8425           345   2590386.50\n",
       "4           3610           335  11240647.00\n",
       "5          10975           257   5591222.30\n",
       "6          10224           236    895768.49\n",
       "7           1038           225   3566049.12\n",
       "8          12701           224   2062316.50\n",
       "9           3615           205   2846476.00"
      ]
     },
     "execution_count": 132,
     "metadata": {},
     "output_type": "execute_result"
    }
   ],
   "source": [
    "#This CSV FILE IS EXTRACTED FROM DATA USING SQL\n",
    "df_plantix_products_no_of_orders2022 = pd.read_csv(r\"C:\\Users\\x\\Downloads\\plantix_top_selling_products_2022.csv\", names = ['fk_product_id','no_of_orders'])\n",
    "df_plantix_products_no_of_orders2022 = df_plantix_products_no_of_orders2022.iloc[0:10,:]\n",
    "df_plantix_products_no_of_orders2022['Revenue'] = [8370628.4,2238276.45,1822052.09,2590386.5,11240647,5591222.3,895768.49,3566049.12,2062316.5,2846476]\n",
    "df_plantix_products_no_of_orders2022\n",
    "\n"
   ]
  },
  {
   "cell_type": "markdown",
   "id": "808de18f",
   "metadata": {},
   "source": [
    "Revenue from Top 10 selling Products = 41223822.85\n",
    "It is  of Total Revenue of July, 2022\n"
   ]
  },
  {
   "cell_type": "code",
   "execution_count": 96,
   "id": "9c551094",
   "metadata": {},
   "outputs": [
    {
     "data": {
      "image/png": "[encoded data removed]",
      "text/plain": [
       "<Figure size 432x288 with 1 Axes>"
      ]
     },
     "metadata": {
      "needs_background": "light"
     },
     "output_type": "display_data"
    }
   ],
   "source": [
    "xdata = df_plantix_products_no_of_orders2022 ['fk_product_id'].to_list()\n",
    "xdata = [str(item) for item in xdata ]\n",
    "ydata = df_plantix_products_no_of_orders2022 ['no_of_orders'].to_list()\n",
    "plt.xlabel('Product id')\n",
    "plt.ylabel('No of orders')\n",
    "plt.title('Top 10 selling Products 2022')\n",
    "plt.xticks(rotation = 'vertical')\n",
    "plt.bar(xdata,ydata,width = 0.5,color = 'yellow')\n",
    "\n",
    "plt.show()"
   ]
  },
  {
   "cell_type": "code",
   "execution_count": 7,
   "id": "4d76f01a",
   "metadata": {},
   "outputs": [
    {
     "data": {
      "text/html": [
       "<div>\n",
       "<style scoped>\n",
       "    .dataframe tbody tr th:only-of-type {\n",
       "        vertical-align: middle;\n",
       "    }\n",
       "\n",
       "    .dataframe tbody tr th {\n",
       "        vertical-align: top;\n",
       "    }\n",
       "\n",
       "    .dataframe thead th {\n",
       "        text-align: right;\n",
       "    }\n",
       "</style>\n",
       "<table border=\"1\" class=\"dataframe\">\n",
       "  <thead>\n",
       "    <tr style=\"text-align: right;\">\n",
       "      <th></th>\n",
       "      <th>fk_buyer_id</th>\n",
       "      <th>Total_orders</th>\n",
       "      <th>user_id</th>\n",
       "      <th>no_of_logins</th>\n",
       "    </tr>\n",
       "  </thead>\n",
       "  <tbody>\n",
       "    <tr>\n",
       "      <th>0</th>\n",
       "      <td>46760</td>\n",
       "      <td>2</td>\n",
       "      <td>46760</td>\n",
       "      <td>102</td>\n",
       "    </tr>\n",
       "    <tr>\n",
       "      <th>1</th>\n",
       "      <td>42344</td>\n",
       "      <td>1</td>\n",
       "      <td>42344</td>\n",
       "      <td>139</td>\n",
       "    </tr>\n",
       "    <tr>\n",
       "      <th>2</th>\n",
       "      <td>95156</td>\n",
       "      <td>3</td>\n",
       "      <td>95156</td>\n",
       "      <td>65</td>\n",
       "    </tr>\n",
       "    <tr>\n",
       "      <th>3</th>\n",
       "      <td>63340</td>\n",
       "      <td>5</td>\n",
       "      <td>63340</td>\n",
       "      <td>246</td>\n",
       "    </tr>\n",
       "    <tr>\n",
       "      <th>4</th>\n",
       "      <td>41728</td>\n",
       "      <td>7</td>\n",
       "      <td>41728</td>\n",
       "      <td>234</td>\n",
       "    </tr>\n",
       "    <tr>\n",
       "      <th>...</th>\n",
       "      <td>...</td>\n",
       "      <td>...</td>\n",
       "      <td>...</td>\n",
       "      <td>...</td>\n",
       "    </tr>\n",
       "    <tr>\n",
       "      <th>4827</th>\n",
       "      <td>79584</td>\n",
       "      <td>1</td>\n",
       "      <td>79584</td>\n",
       "      <td>46</td>\n",
       "    </tr>\n",
       "    <tr>\n",
       "      <th>4828</th>\n",
       "      <td>200296</td>\n",
       "      <td>1</td>\n",
       "      <td>200296</td>\n",
       "      <td>2</td>\n",
       "    </tr>\n",
       "    <tr>\n",
       "      <th>4829</th>\n",
       "      <td>223508</td>\n",
       "      <td>1</td>\n",
       "      <td>223508</td>\n",
       "      <td>20</td>\n",
       "    </tr>\n",
       "    <tr>\n",
       "      <th>4830</th>\n",
       "      <td>113308</td>\n",
       "      <td>1</td>\n",
       "      <td>113308</td>\n",
       "      <td>3</td>\n",
       "    </tr>\n",
       "    <tr>\n",
       "      <th>4831</th>\n",
       "      <td>113260</td>\n",
       "      <td>1</td>\n",
       "      <td>113260</td>\n",
       "      <td>8</td>\n",
       "    </tr>\n",
       "  </tbody>\n",
       "</table>\n",
       "<p>4832 rows × 4 columns</p>\n",
       "</div>"
      ],
      "text/plain": [
       "      fk_buyer_id  Total_orders  user_id  no_of_logins\n",
       "0           46760             2    46760           102\n",
       "1           42344             1    42344           139\n",
       "2           95156             3    95156            65\n",
       "3           63340             5    63340           246\n",
       "4           41728             7    41728           234\n",
       "...           ...           ...      ...           ...\n",
       "4827        79584             1    79584            46\n",
       "4828       200296             1   200296             2\n",
       "4829       223508             1   223508            20\n",
       "4830       113308             1   113308             3\n",
       "4831       113260             1   113260             8\n",
       "\n",
       "[4832 rows x 4 columns]"
      ]
     },
     "execution_count": 7,
     "metadata": {},
     "output_type": "execute_result"
    }
   ],
   "source": [
    "#This CSV FILE IS EXTRACTED FROM DATA USING SQL\n",
    "\n",
    "df_logins_orders = pd.read_csv(r\"C:\\Users\\x\\Downloads\\Plantix_logins_orders.csv\", names = ['fk_buyer_id','Total_orders','user_id','no_of_logins'])\n",
    "df_logins_orders"
   ]
  },
  {
   "cell_type": "code",
   "execution_count": 11,
   "id": "abe0f5e6",
   "metadata": {},
   "outputs": [
    {
     "data": {
      "text/html": [
       "<div>\n",
       "<style scoped>\n",
       "    .dataframe tbody tr th:only-of-type {\n",
       "        vertical-align: middle;\n",
       "    }\n",
       "\n",
       "    .dataframe tbody tr th {\n",
       "        vertical-align: top;\n",
       "    }\n",
       "\n",
       "    .dataframe thead th {\n",
       "        text-align: right;\n",
       "    }\n",
       "</style>\n",
       "<table border=\"1\" class=\"dataframe\">\n",
       "  <thead>\n",
       "    <tr style=\"text-align: right;\">\n",
       "      <th></th>\n",
       "      <th>user_id</th>\n",
       "      <th>Total_orders</th>\n",
       "      <th>no_of_logins</th>\n",
       "    </tr>\n",
       "  </thead>\n",
       "  <tbody>\n",
       "    <tr>\n",
       "      <th>4097</th>\n",
       "      <td>79652</td>\n",
       "      <td>74</td>\n",
       "      <td>688</td>\n",
       "    </tr>\n",
       "    <tr>\n",
       "      <th>4115</th>\n",
       "      <td>43844</td>\n",
       "      <td>31</td>\n",
       "      <td>708</td>\n",
       "    </tr>\n",
       "    <tr>\n",
       "      <th>2228</th>\n",
       "      <td>66000</td>\n",
       "      <td>28</td>\n",
       "      <td>788</td>\n",
       "    </tr>\n",
       "    <tr>\n",
       "      <th>3135</th>\n",
       "      <td>35416</td>\n",
       "      <td>24</td>\n",
       "      <td>118</td>\n",
       "    </tr>\n",
       "    <tr>\n",
       "      <th>1127</th>\n",
       "      <td>19404</td>\n",
       "      <td>24</td>\n",
       "      <td>618</td>\n",
       "    </tr>\n",
       "    <tr>\n",
       "      <th>...</th>\n",
       "      <td>...</td>\n",
       "      <td>...</td>\n",
       "      <td>...</td>\n",
       "    </tr>\n",
       "    <tr>\n",
       "      <th>3664</th>\n",
       "      <td>135628</td>\n",
       "      <td>1</td>\n",
       "      <td>7</td>\n",
       "    </tr>\n",
       "    <tr>\n",
       "      <th>3645</th>\n",
       "      <td>211744</td>\n",
       "      <td>1</td>\n",
       "      <td>3</td>\n",
       "    </tr>\n",
       "    <tr>\n",
       "      <th>3729</th>\n",
       "      <td>64212</td>\n",
       "      <td>1</td>\n",
       "      <td>243</td>\n",
       "    </tr>\n",
       "    <tr>\n",
       "      <th>3730</th>\n",
       "      <td>72276</td>\n",
       "      <td>1</td>\n",
       "      <td>66</td>\n",
       "    </tr>\n",
       "    <tr>\n",
       "      <th>2415</th>\n",
       "      <td>63844</td>\n",
       "      <td>1</td>\n",
       "      <td>42</td>\n",
       "    </tr>\n",
       "  </tbody>\n",
       "</table>\n",
       "<p>4832 rows × 3 columns</p>\n",
       "</div>"
      ],
      "text/plain": [
       "      user_id  Total_orders  no_of_logins\n",
       "4097    79652            74           688\n",
       "4115    43844            31           708\n",
       "2228    66000            28           788\n",
       "3135    35416            24           118\n",
       "1127    19404            24           618\n",
       "...       ...           ...           ...\n",
       "3664   135628             1             7\n",
       "3645   211744             1             3\n",
       "3729    64212             1           243\n",
       "3730    72276             1            66\n",
       "2415    63844             1            42\n",
       "\n",
       "[4832 rows x 3 columns]"
      ]
     },
     "execution_count": 11,
     "metadata": {},
     "output_type": "execute_result"
    }
   ],
   "source": [
    "# fk_buyer_id is same as user_id\n",
    "df_logins_orders = df_logins_orders[['user_id','Total_orders','no_of_logins']].sort_values('Total_orders', ascending = False)\n",
    "df_logins_orders"
   ]
  },
  {
   "cell_type": "code",
   "execution_count": 15,
   "id": "13f5680e",
   "metadata": {},
   "outputs": [
    {
     "name": "stderr",
     "output_type": "stream",
     "text": [
      "C:\\Users\\x\\anaconda3\\lib\\site-packages\\seaborn\\_decorators.py:36: FutureWarning: Pass the following variables as keyword args: x, y. From version 0.12, the only valid positional argument will be `data`, and passing other arguments without an explicit keyword will result in an error or misinterpretation.\n",
      "  warnings.warn(\n"
     ]
    },
    {
     "data": {
      "text/plain": [
       "<AxesSubplot:xlabel='no_of_logins', ylabel='Total_orders'>"
      ]
     },
     "execution_count": 15,
     "metadata": {},
     "output_type": "execute_result"
    },
    {
     "data": {
      "image/png": "[encoded data removed]",
      "text/plain": [
       "<Figure size 432x288 with 1 Axes>"
      ]
     },
     "metadata": {
      "needs_background": "light"
     },
     "output_type": "display_data"
    }
   ],
   "source": [
    "sns.lineplot('no_of_logins','Total_orders',data = df_logins_orders)"
   ]
  }
 ],
 "metadata": {
  "kernelspec": {
   "display_name": "Python 3 (ipykernel)",
   "language": "python",
   "name": "python3"
  },
  "language_info": {
   "codemirror_mode": {
    "name": "ipython",
    "version": 3
   },
   "file_extension": ".py",
   "mimetype": "text/x-python",
   "name": "python",
   "nbconvert_exporter": "python",
   "pygments_lexer": "ipython3",
   "version": "3.9.12"
  }
 },
 "nbformat": 4,
 "nbformat_minor": 5
}
